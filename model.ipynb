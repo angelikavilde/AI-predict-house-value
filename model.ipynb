{
 "cells": [
  {
   "cell_type": "code",
   "execution_count": 418,
   "metadata": {},
   "outputs": [],
   "source": [
    "import pickle\n",
    "import pandas as pd\n",
    "from sklearn.model_selection import train_test_split\n",
    "from sklearn.metrics import r2_score\n",
    "import matplotlib.pyplot as plt\n",
    "from sklearn.linear_model import LinearRegression\n",
    "from sklearn.ensemble import RandomForestRegressor\n",
    "from xgboost import XGBRegressor"
   ]
  },
  {
   "cell_type": "markdown",
   "metadata": {},
   "source": [
    "## Split the data into training and testing"
   ]
  },
  {
   "cell_type": "markdown",
   "metadata": {},
   "source": [
    "To train the data, first need to split it into the data that the model will be trained on and the data the model will be assessed on. Here we are using median house value as the prediction of the model."
   ]
  },
  {
   "cell_type": "code",
   "execution_count": 419,
   "metadata": {},
   "outputs": [
    {
     "data": {
      "text/plain": [
       "Index(['Unnamed: 0', 'housing_median_age', 'median_income',\n",
       "       'median_house_value', 'ocean_proximity_<1H OCEAN',\n",
       "       'ocean_proximity_INLAND', 'ocean_proximity_ISLAND',\n",
       "       'ocean_proximity_NEAR BAY', 'ocean_proximity_NEAR OCEAN',\n",
       "       'rooms_per_household', 'bedrooms_per_room', 'population_per_household',\n",
       "       'coordinates'],\n",
       "      dtype='object')"
      ]
     },
     "execution_count": 419,
     "metadata": {},
     "output_type": "execute_result"
    }
   ],
   "source": [
    "data = pd.read_csv(\"cleaned_housing.csv\")\n",
    "data.columns"
   ]
  },
  {
   "cell_type": "code",
   "execution_count": 420,
   "metadata": {},
   "outputs": [],
   "source": [
    "data.rename({\"ocean_proximity_<1H OCEAN\": \"ocean_proximity_under_1H OCEAN\"}, axis=1, inplace=True) # XGBoost model doesn't allow \"<\"\n",
    "X = data.drop([\"median_house_value\", \"Unnamed: 0\"], axis=1, errors=\"ignore\")\n",
    "# Median house value removed as it is the answer the model will be tested on and Unnamed column appears with pandas usage\n",
    "y = data[\"median_house_value\"]"
   ]
  },
  {
   "cell_type": "code",
   "execution_count": 421,
   "metadata": {},
   "outputs": [
    {
     "name": "stdout",
     "output_type": "stream",
     "text": [
      "(14303, 11)\n",
      "(6130, 11)\n",
      "(14303,)\n",
      "(6130,)\n"
     ]
    }
   ],
   "source": [
    "X_train, X_test, y_train, y_test = train_test_split(X, y, random_state=42, shuffle=True, test_size=0.3)\n",
    "print(X_train.shape)\n",
    "print(X_test.shape)\n",
    "print(y_train.shape)\n",
    "print(y_test.shape)"
   ]
  },
  {
   "cell_type": "markdown",
   "metadata": {},
   "source": [
    "## Creating models"
   ]
  },
  {
   "cell_type": "code",
   "execution_count": 422,
   "metadata": {},
   "outputs": [
    {
     "data": {
      "text/html": [
       "<style>#sk-container-id-59 {color: black;}#sk-container-id-59 pre{padding: 0;}#sk-container-id-59 div.sk-toggleable {background-color: white;}#sk-container-id-59 label.sk-toggleable__label {cursor: pointer;display: block;width: 100%;margin-bottom: 0;padding: 0.3em;box-sizing: border-box;text-align: center;}#sk-container-id-59 label.sk-toggleable__label-arrow:before {content: \"▸\";float: left;margin-right: 0.25em;color: #696969;}#sk-container-id-59 label.sk-toggleable__label-arrow:hover:before {color: black;}#sk-container-id-59 div.sk-estimator:hover label.sk-toggleable__label-arrow:before {color: black;}#sk-container-id-59 div.sk-toggleable__content {max-height: 0;max-width: 0;overflow: hidden;text-align: left;background-color: #f0f8ff;}#sk-container-id-59 div.sk-toggleable__content pre {margin: 0.2em;color: black;border-radius: 0.25em;background-color: #f0f8ff;}#sk-container-id-59 input.sk-toggleable__control:checked~div.sk-toggleable__content {max-height: 200px;max-width: 100%;overflow: auto;}#sk-container-id-59 input.sk-toggleable__control:checked~label.sk-toggleable__label-arrow:before {content: \"▾\";}#sk-container-id-59 div.sk-estimator input.sk-toggleable__control:checked~label.sk-toggleable__label {background-color: #d4ebff;}#sk-container-id-59 div.sk-label input.sk-toggleable__control:checked~label.sk-toggleable__label {background-color: #d4ebff;}#sk-container-id-59 input.sk-hidden--visually {border: 0;clip: rect(1px 1px 1px 1px);clip: rect(1px, 1px, 1px, 1px);height: 1px;margin: -1px;overflow: hidden;padding: 0;position: absolute;width: 1px;}#sk-container-id-59 div.sk-estimator {font-family: monospace;background-color: #f0f8ff;border: 1px dotted black;border-radius: 0.25em;box-sizing: border-box;margin-bottom: 0.5em;}#sk-container-id-59 div.sk-estimator:hover {background-color: #d4ebff;}#sk-container-id-59 div.sk-parallel-item::after {content: \"\";width: 100%;border-bottom: 1px solid gray;flex-grow: 1;}#sk-container-id-59 div.sk-label:hover label.sk-toggleable__label {background-color: #d4ebff;}#sk-container-id-59 div.sk-serial::before {content: \"\";position: absolute;border-left: 1px solid gray;box-sizing: border-box;top: 0;bottom: 0;left: 50%;z-index: 0;}#sk-container-id-59 div.sk-serial {display: flex;flex-direction: column;align-items: center;background-color: white;padding-right: 0.2em;padding-left: 0.2em;position: relative;}#sk-container-id-59 div.sk-item {position: relative;z-index: 1;}#sk-container-id-59 div.sk-parallel {display: flex;align-items: stretch;justify-content: center;background-color: white;position: relative;}#sk-container-id-59 div.sk-item::before, #sk-container-id-59 div.sk-parallel-item::before {content: \"\";position: absolute;border-left: 1px solid gray;box-sizing: border-box;top: 0;bottom: 0;left: 50%;z-index: -1;}#sk-container-id-59 div.sk-parallel-item {display: flex;flex-direction: column;z-index: 1;position: relative;background-color: white;}#sk-container-id-59 div.sk-parallel-item:first-child::after {align-self: flex-end;width: 50%;}#sk-container-id-59 div.sk-parallel-item:last-child::after {align-self: flex-start;width: 50%;}#sk-container-id-59 div.sk-parallel-item:only-child::after {width: 0;}#sk-container-id-59 div.sk-dashed-wrapped {border: 1px dashed gray;margin: 0 0.4em 0.5em 0.4em;box-sizing: border-box;padding-bottom: 0.4em;background-color: white;}#sk-container-id-59 div.sk-label label {font-family: monospace;font-weight: bold;display: inline-block;line-height: 1.2em;}#sk-container-id-59 div.sk-label-container {text-align: center;}#sk-container-id-59 div.sk-container {/* jupyter's `normalize.less` sets `[hidden] { display: none; }` but bootstrap.min.css set `[hidden] { display: none !important; }` so we also need the `!important` here to be able to override the default hidden behavior on the sphinx rendered scikit-learn.org. See: https://github.com/scikit-learn/scikit-learn/issues/21755 */display: inline-block !important;position: relative;}#sk-container-id-59 div.sk-text-repr-fallback {display: none;}</style><div id=\"sk-container-id-59\" class=\"sk-top-container\"><div class=\"sk-text-repr-fallback\"><pre>XGBRegressor(base_score=None, booster=None, callbacks=None,\n",
       "             colsample_bylevel=None, colsample_bynode=None,\n",
       "             colsample_bytree=None, early_stopping_rounds=None,\n",
       "             enable_categorical=False, eval_metric=None, feature_types=None,\n",
       "             gamma=None, gpu_id=None, grow_policy=None, importance_type=None,\n",
       "             interaction_constraints=None, learning_rate=None, max_bin=None,\n",
       "             max_cat_threshold=None, max_cat_to_onehot=None,\n",
       "             max_delta_step=None, max_depth=None, max_leaves=None,\n",
       "             min_child_weight=None, missing=nan, monotone_constraints=None,\n",
       "             n_estimators=100, n_jobs=None, num_parallel_tree=None,\n",
       "             predictor=None, random_state=None, ...)</pre><b>In a Jupyter environment, please rerun this cell to show the HTML representation or trust the notebook. <br />On GitHub, the HTML representation is unable to render, please try loading this page with nbviewer.org.</b></div><div class=\"sk-container\" hidden><div class=\"sk-item\"><div class=\"sk-estimator sk-toggleable\"><input class=\"sk-toggleable__control sk-hidden--visually\" id=\"sk-estimator-id-59\" type=\"checkbox\" checked><label for=\"sk-estimator-id-59\" class=\"sk-toggleable__label sk-toggleable__label-arrow\">XGBRegressor</label><div class=\"sk-toggleable__content\"><pre>XGBRegressor(base_score=None, booster=None, callbacks=None,\n",
       "             colsample_bylevel=None, colsample_bynode=None,\n",
       "             colsample_bytree=None, early_stopping_rounds=None,\n",
       "             enable_categorical=False, eval_metric=None, feature_types=None,\n",
       "             gamma=None, gpu_id=None, grow_policy=None, importance_type=None,\n",
       "             interaction_constraints=None, learning_rate=None, max_bin=None,\n",
       "             max_cat_threshold=None, max_cat_to_onehot=None,\n",
       "             max_delta_step=None, max_depth=None, max_leaves=None,\n",
       "             min_child_weight=None, missing=nan, monotone_constraints=None,\n",
       "             n_estimators=100, n_jobs=None, num_parallel_tree=None,\n",
       "             predictor=None, random_state=None, ...)</pre></div></div></div></div></div>"
      ],
      "text/plain": [
       "XGBRegressor(base_score=None, booster=None, callbacks=None,\n",
       "             colsample_bylevel=None, colsample_bynode=None,\n",
       "             colsample_bytree=None, early_stopping_rounds=None,\n",
       "             enable_categorical=False, eval_metric=None, feature_types=None,\n",
       "             gamma=None, gpu_id=None, grow_policy=None, importance_type=None,\n",
       "             interaction_constraints=None, learning_rate=None, max_bin=None,\n",
       "             max_cat_threshold=None, max_cat_to_onehot=None,\n",
       "             max_delta_step=None, max_depth=None, max_leaves=None,\n",
       "             min_child_weight=None, missing=nan, monotone_constraints=None,\n",
       "             n_estimators=100, n_jobs=None, num_parallel_tree=None,\n",
       "             predictor=None, random_state=None, ...)"
      ]
     },
     "execution_count": 422,
     "metadata": {},
     "output_type": "execute_result"
    }
   ],
   "source": [
    "# Linear regression model:\n",
    "reg_model = LinearRegression()\n",
    "reg_model.fit(X_train, y_train)\n",
    "\n",
    "# Forest regression model:\n",
    "rf_model = RandomForestRegressor(n_estimators=10,random_state=10)\n",
    "rf_model.fit(X_train, y_train)\n",
    "\n",
    "# XGBoost model:\n",
    "xgb_model = XGBRegressor()\n",
    "xgb_model.fit(X_train, y_train)"
   ]
  },
  {
   "cell_type": "markdown",
   "metadata": {},
   "source": [
    "## Testing models' accuracy"
   ]
  },
  {
   "cell_type": "code",
   "execution_count": 423,
   "metadata": {},
   "outputs": [
    {
     "name": "stdout",
     "output_type": "stream",
     "text": [
      "         Actual      Predicted  Accuracy %\n",
      "6515   500001.0  355241.110557   71.048080\n",
      "6504   241700.0  310940.250980  128.647187\n",
      "7752   145800.0  224420.436631  153.923482\n",
      "9463   107600.0  158287.682077  147.107511\n",
      "13592  112500.0  100212.798706   89.078043\n",
      "Avrg accuracy %: 112.00449874074421\n",
      "61.02\n"
     ]
    }
   ],
   "source": [
    "# Linear regression model:\n",
    "y_lr_pred_test = reg_model.predict(X_test)\n",
    "predictions = pd.DataFrame({\"Actual\": y_test, \"Predicted\": y_lr_pred_test, \"Accuracy %\": (y_pred_test/y_test) * 100})\n",
    "print(predictions.sample(5))\n",
    "print(f\"Avrg accuracy %: {predictions['Accuracy %'].mean()}\")\n",
    "print(round(r2_score(y_test, y_lr_pred_test) * 100 , 2))"
   ]
  },
  {
   "cell_type": "code",
   "execution_count": 424,
   "metadata": {},
   "outputs": [
    {
     "name": "stdout",
     "output_type": "stream",
     "text": [
      "         Actual  Predicted  Accuracy %\n",
      "17346  391300.0   366290.2   93.608536\n",
      "11482  362400.0   291920.0   80.551876\n",
      "11876  375000.0   184330.0   49.154667\n",
      "19890  162500.0   219230.3  134.910954\n",
      "11914  121100.0   134710.0  111.238646\n",
      "Avrg accuracy %: 107.15371709241468\n",
      "75.38\n"
     ]
    }
   ],
   "source": [
    "# Forest regression model:\n",
    "y_rf_pred_test = rf_model.predict(X_test)\n",
    "predictions = pd.DataFrame({\"Actual\": y_test, \"Predicted\": y_rf_pred_test, \"Accuracy %\": (y_rf_pred_test/y_test) * 100})\n",
    "print(predictions.sample(5))\n",
    "print(f\"Avrg accuracy %: {predictions['Accuracy %'].mean()}\")\n",
    "print(round(r2_score(y_test, y_rf_pred_test) * 100 , 2))"
   ]
  },
  {
   "cell_type": "code",
   "execution_count": 425,
   "metadata": {},
   "outputs": [
    {
     "name": "stdout",
     "output_type": "stream",
     "text": [
      "         Actual      Predicted  Accuracy %\n",
      "14253  284900.0  294319.000000  103.306072\n",
      "5610   276400.0  345676.906250  125.064004\n",
      "9871   214500.0  159866.828125   74.529990\n",
      "10180  263700.0  286124.968750  108.503970\n",
      "3245   140600.0  133148.234375   94.700024\n",
      "Avrg accuracy %: 106.79620574831326\n",
      "78.17\n"
     ]
    }
   ],
   "source": [
    "# XGBoost model:\n",
    "y_xgb_pred_test = xgb_model.predict(X_test)\n",
    "predictions = pd.DataFrame({\"Actual\": y_test, \"Predicted\": y_xgb_pred_test, \"Accuracy %\": (y_xgb_pred_test/y_test) * 100})\n",
    "print(predictions.sample(5))\n",
    "print(f\"Avrg accuracy %: {predictions['Accuracy %'].mean()}\")\n",
    "print(round(r2_score(y_test, y_xgb_pred_test) * 100 , 2))"
   ]
  },
  {
   "cell_type": "markdown",
   "metadata": {},
   "source": [
    "## Important features\n",
    "* The data that contributes the most to the predictions\n",
    "\n",
    "Model can be built only using the most important features to simplify analysis of the predictions."
   ]
  },
  {
   "cell_type": "markdown",
   "metadata": {},
   "source": [
    "#### Forest regression model has a method feature importances which shows the most important features that are used by the model to calculate the prediction"
   ]
  },
  {
   "cell_type": "code",
   "execution_count": 426,
   "metadata": {},
   "outputs": [
    {
     "data": {
      "text/plain": [
       "<Axes: >"
      ]
     },
     "execution_count": 426,
     "metadata": {},
     "output_type": "execute_result"
    },
    {
     "data": {
      "image/png": "[encoded data removed]",
      "text/plain": [
       "<Figure size 300x200 with 1 Axes>"
      ]
     },
     "metadata": {},
     "output_type": "display_data"
    }
   ],
   "source": [
    "plt.figure(figsize=(3,2))\n",
    "feat_importances = pd.Series(rf_model.feature_importances_, index = X_train.columns)\n",
    "feat_importances.nlargest(3).plot(kind=\"barh\") # plot 3 of the highest importance with side bar-plot"
   ]
  },
  {
   "cell_type": "markdown",
   "metadata": {},
   "source": [
    "## Modifying model's parameters"
   ]
  },
  {
   "cell_type": "code",
   "execution_count": 427,
   "metadata": {},
   "outputs": [
    {
     "data": {
      "text/plain": [
       "{'objective': 'reg:squarederror',\n",
       " 'base_score': None,\n",
       " 'booster': None,\n",
       " 'callbacks': None,\n",
       " 'colsample_bylevel': None,\n",
       " 'colsample_bynode': None,\n",
       " 'colsample_bytree': None,\n",
       " 'early_stopping_rounds': None,\n",
       " 'enable_categorical': False,\n",
       " 'eval_metric': None,\n",
       " 'feature_types': None,\n",
       " 'gamma': None,\n",
       " 'gpu_id': None,\n",
       " 'grow_policy': None,\n",
       " 'importance_type': None,\n",
       " 'interaction_constraints': None,\n",
       " 'learning_rate': None,\n",
       " 'max_bin': None,\n",
       " 'max_cat_threshold': None,\n",
       " 'max_cat_to_onehot': None,\n",
       " 'max_delta_step': None,\n",
       " 'max_depth': None,\n",
       " 'max_leaves': None,\n",
       " 'min_child_weight': None,\n",
       " 'missing': nan,\n",
       " 'monotone_constraints': None,\n",
       " 'n_estimators': 100,\n",
       " 'n_jobs': None,\n",
       " 'num_parallel_tree': None,\n",
       " 'predictor': None,\n",
       " 'random_state': None,\n",
       " 'reg_alpha': None,\n",
       " 'reg_lambda': None,\n",
       " 'sampling_method': None,\n",
       " 'scale_pos_weight': None,\n",
       " 'subsample': None,\n",
       " 'tree_method': None,\n",
       " 'validate_parameters': None,\n",
       " 'verbosity': None}"
      ]
     },
     "execution_count": 427,
     "metadata": {},
     "output_type": "execute_result"
    }
   ],
   "source": [
    "# Current parameters which can be adjusted:\n",
    "xgb_model.get_params()"
   ]
  },
  {
   "cell_type": "code",
   "execution_count": 428,
   "metadata": {},
   "outputs": [],
   "source": [
    "# Creating a second xgb model but with modified parameters this time:\n",
    "xgb_model_2 = XGBRegressor(\n",
    "    gamma=0.05,\n",
    "    learning_rate=0.01,\n",
    "    max_depth=6,\n",
    "    n_estimators=1000,\n",
    "    n_jobs=16,\n",
    "    objective=\"reg:squarederror\",\n",
    "    subsample=0.8,\n",
    "    scale_pos_weight=0,\n",
    "    reg_alpha=0,\n",
    "    reg_lambda=1,\n",
    "    verbosity=1)\n",
    "\n",
    "xgb_model_2.fit(X_train, y_train)\n",
    "y_xgb_2_pred_test = xgb_model_2.predict(X_test)"
   ]
  },
  {
   "cell_type": "code",
   "execution_count": 429,
   "metadata": {},
   "outputs": [
    {
     "name": "stdout",
     "output_type": "stream",
     "text": [
      "         Actual      Predicted  Accuracy %\n",
      "5101    89800.0  107231.320312  119.411270\n",
      "17227  129200.0  142461.468750  110.264295\n",
      "3857   205100.0  200081.781250   97.553282\n",
      "2946   245800.0  373053.406250  151.771117\n",
      "12135  112500.0  108410.054688   96.364493\n",
      "Avrg accuracy %: 107.31877442513836\n",
      "75.38\n"
     ]
    }
   ],
   "source": [
    "predictions = pd.DataFrame({\"Actual\": y_test, \"Predicted\": y_xgb_2_pred_test, \"Accuracy %\": (y_xgb_2_pred_test/y_test) * 100})\n",
    "print(predictions.sample(5))\n",
    "print(f\"Avrg accuracy %: {predictions['Accuracy %'].mean()}\")\n",
    "print(round(r2_score(y_test, y_rf_pred_test) * 100 , 2))"
   ]
  },
  {
   "cell_type": "markdown",
   "metadata": {},
   "source": [
    "## Saving and reusing a model"
   ]
  },
  {
   "cell_type": "code",
   "execution_count": 430,
   "metadata": {},
   "outputs": [],
   "source": [
    "# Save the models to a file\n",
    "models_to_save = {\"linear_regression_model\": reg_model, \"forest_regression_model\": rf_model,\n",
    "                  \"xgb_model\": xgb_model, \"xgb_model_2\": xgb_model_2}\n",
    "for model_name, model in models_to_save.items():\n",
    "    with open(f\"{model_name}.pkl\", \"wb\") as model_file:\n",
    "        pickle.dump(model, model_file)"
   ]
  },
  {
   "cell_type": "code",
   "execution_count": 431,
   "metadata": {},
   "outputs": [],
   "source": [
    "# To use a model:\n",
    "with open(\"xgb_model.pkl\", \"rb\") as model_file:\n",
    "    model = pickle.load(model_file)"
   ]
  }
 ],
 "metadata": {
  "kernelspec": {
   "display_name": "venv",
   "language": "python",
   "name": "python3"
  },
  "language_info": {
   "codemirror_mode": {
    "name": "ipython",
    "version": 3
   },
   "file_extension": ".py",
   "mimetype": "text/x-python",
   "name": "python",
   "nbconvert_exporter": "python",
   "pygments_lexer": "ipython3",
   "version": "3.11.3"
  },
  "orig_nbformat": 4
 },
 "nbformat": 4,
 "nbformat_minor": 2
}
